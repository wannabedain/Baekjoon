{
  "nbformat": 4,
  "nbformat_minor": 0,
  "metadata": {
    "colab": {
      "provenance": []
    },
    "kernelspec": {
      "name": "python3",
      "display_name": "Python 3"
    },
    "language_info": {
      "name": "python"
    }
  },
  "cells": [
    {
      "cell_type": "markdown",
      "source": [
        "* 모든 경우의 수를 다 해보는 브루트 포스 알고리즘"
      ],
      "metadata": {
        "id": "PJHsqWjtjcPe"
      }
    },
    {
      "cell_type": "markdown",
      "source": [
        "## 2309 - 일곱 난쟁이\n",
        ": 문제\n",
        "* 왕비를 피해 일곱 난쟁이들과 함께 평화롭게 생활하고 있던 백설공주에게 위기가 찾아왔다. 일과를 마치고 돌아온 난쟁이가 일곱 명이 아닌 아홉 명이었던 것이다.\n",
        "\n",
        "* 아홉 명의 난쟁이는 모두 자신이 \"백설 공주와 일곱 난쟁이\"의 주인공이라고 주장했다. 뛰어난 수학적 직관력을 가지고 있던 백설공주는, 다행스럽게도 일곱 난쟁이의 키의 합이 100이 됨을 기억해 냈다.\n",
        "\n",
        "* 아홉 난쟁이의 키가 주어졌을 때, 백설공주를 도와 일곱 난쟁이를 찾는 프로그램을 작성하시오."
      ],
      "metadata": {
        "id": "jgbqRg4Kjk1G"
      }
    },
    {
      "cell_type": "markdown",
      "source": [
        "- 입력\n",
        "아홉 개의 줄에 걸쳐 난쟁이들의 키가 주어진다. 주어지는 키는 100을 넘지 않는 자연수이며, 아홉 난쟁이의 키는 모두 다르며, 가능한 정답이 여러 가지인 경우에는 아무거나 출력한다."
      ],
      "metadata": {
        "id": "o-kBSpk2j8FT"
      }
    },
    {
      "cell_type": "code",
      "execution_count": null,
      "metadata": {
        "colab": {
          "base_uri": "https://localhost:8080/"
        },
        "id": "vh4116U0jURp",
        "outputId": "dc6a5f6d-5d55-4ff6-bb41-11f5063b967e"
      },
      "outputs": [
        {
          "output_type": "stream",
          "name": "stdout",
          "text": [
            "20\n",
            "7\n",
            "23\n",
            "19\n",
            "10\n",
            "15\n",
            "25\n",
            "8\n",
            "13\n",
            "7\n",
            "8\n",
            "10\n",
            "13\n",
            "19\n",
            "20\n",
            "23\n"
          ]
        }
      ],
      "source": [
        "#데이터 입력\n",
        "data = []\n",
        "for i in range(9) : \n",
        "  data.append(int(input()))\n",
        "\n",
        "data.sort()\n",
        "\n",
        "total = sum(data)\n",
        "\n",
        "# 9명 중 2명을 제외한 것이 100이면 그 7멍을 출력\n",
        "for i in range(9):\n",
        "  for j in range(i+1, 9):\n",
        "    if total - data[i] - data[j] == 100 :\n",
        "      for k in range(9):\n",
        "        if k != i and k != j:\n",
        "          print(data[k])\n",
        "      exit()"
      ]
    },
    {
      "cell_type": "markdown",
      "source": [
        "# 3085 사탕게임 (나중에 다시 풀 문제)\n",
        "- 7"
      ],
      "metadata": {
        "id": "CeBbm5I6ou69"
      }
    },
    {
      "cell_type": "code",
      "source": [
        "# \n",
        "n = int(input())\n",
        "\n",
        "array = []\n",
        "for _ in range(n):\n",
        "  color = list(map(str,input()))\n",
        "  array.append(color)\n"
      ],
      "metadata": {
        "colab": {
          "base_uri": "https://localhost:8080/"
        },
        "id": "S3-ubfbtk9SZ",
        "outputId": "88a41081-50e9-4df8-e023-af3b7736b635"
      },
      "execution_count": null,
      "outputs": [
        {
          "name": "stdout",
          "output_type": "stream",
          "text": [
            "3\n",
            "CCP\n",
            "CCP\n",
            "PPC\n"
          ]
        }
      ]
    },
    {
      "cell_type": "markdown",
      "source": [
        "# 1476 - 날짜계산"
      ],
      "metadata": {
        "id": "iWempdf64DUt"
      }
    },
    {
      "cell_type": "code",
      "source": [
        "E, S, M = map(int, input().split())\n",
        "\n",
        "year = 1\n",
        "while True :\n",
        "  if ((year - E) % 15 == 0) & ((year-S) % 28 == 0) & ((year-M) % 19 == 0) :\n",
        "    print(year)\n",
        "    break\n",
        "  year += 1"
      ],
      "metadata": {
        "colab": {
          "base_uri": "https://localhost:8080/"
        },
        "id": "hVn-FH34unWt",
        "outputId": "36488e96-d20d-4a61-c245-6595b17f03af"
      },
      "execution_count": null,
      "outputs": [
        {
          "output_type": "stream",
          "name": "stdout",
          "text": [
            "1 2 3\n",
            "5266\n"
          ]
        }
      ]
    },
    {
      "cell_type": "markdown",
      "source": [
        "# 1107 - 리모컨"
      ],
      "metadata": {
        "id": "4N0Bpl6Z6LkB"
      }
    },
    {
      "cell_type": "code",
      "source": [
        "\n",
        "N = int(input())\n",
        "M = int(input())\n",
        "data_x = input().split()\n",
        "\n",
        "\n",
        "F = 100\n",
        "\n",
        "num_min = abs(N - F)\n",
        "\n",
        "for num in range(1000001) : \n",
        "  for i in str(num) : \n",
        "    if i in data_x : \n",
        "      break \n",
        "\n",
        "print(min(num_min, len(str(num)) + abs(num - N)))\n"
      ],
      "metadata": {
        "id": "EQDWhTD17Ywu",
        "colab": {
          "base_uri": "https://localhost:8080/"
        },
        "outputId": "7bc4dde1-a6b4-4db5-a687-a5937372b50d"
      },
      "execution_count": null,
      "outputs": [
        {
          "output_type": "stream",
          "name": "stdout",
          "text": [
            "5357\n",
            "5\n",
            "6 7 8\n",
            "5257\n"
          ]
        }
      ]
    },
    {
      "cell_type": "markdown",
      "source": [
        "# 6064 - 카잉 달력 "
      ],
      "metadata": {
        "id": "HR3kj5Jvi5Wk"
      }
    },
    {
      "cell_type": "code",
      "source": [
        "num = int(input())\n",
        "\n",
        "c = '' \n",
        "for i in range(1, num+1) :\n",
        "  c = str(c) + str(i)\n",
        "\n",
        "print(len(c))\n"
      ],
      "metadata": {
        "colab": {
          "base_uri": "https://localhost:8080/"
        },
        "id": "gyBh_HB-d_us",
        "outputId": "62142f10-57e9-4597-e706-e6aaf21a965b"
      },
      "execution_count": null,
      "outputs": [
        {
          "output_type": "stream",
          "name": "stdout",
          "text": [
            "5\n",
            "5\n"
          ]
        }
      ]
    },
    {
      "cell_type": "markdown",
      "source": [
        "# 9095 - 1,2,3 더하기 (나중에 다시 풀 문제)"
      ],
      "metadata": {
        "id": "U7d3mHtQniih"
      }
    }
  ]
}