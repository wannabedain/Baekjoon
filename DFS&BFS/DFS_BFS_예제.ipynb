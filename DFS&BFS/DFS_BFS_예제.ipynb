{
  "nbformat": 4,
  "nbformat_minor": 0,
  "metadata": {
    "colab": {
      "provenance": [],
      "toc_visible": true
    },
    "kernelspec": {
      "name": "python3",
      "display_name": "Python 3"
    },
    "language_info": {
      "name": "python"
    }
  },
  "cells": [
    {
      "cell_type": "code",
      "execution_count": 5,
      "metadata": {
        "id": "hevmF-H9-_Ph"
      },
      "outputs": [],
      "source": [
        "# 반복\n",
        "def factorial_iterative(n):\n",
        "  result = 1\n",
        "  for i in range(1, n+1) :\n",
        "    result *= i\n",
        "  return result"
      ]
    },
    {
      "cell_type": "code",
      "source": [
        "factorial_iterative(5)"
      ],
      "metadata": {
        "colab": {
          "base_uri": "https://localhost:8080/"
        },
        "id": "JLrJxK7I_Qe6",
        "outputId": "4d255ec4-4688-4c22-950e-ff19b815cee5"
      },
      "execution_count": 6,
      "outputs": [
        {
          "output_type": "execute_result",
          "data": {
            "text/plain": [
              "120"
            ]
          },
          "metadata": {},
          "execution_count": 6
        }
      ]
    },
    {
      "cell_type": "code",
      "source": [
        "# 재귀\n",
        "def factorial_recursive(n):\n",
        "  if n <= 1 : \n",
        "    return 1\n",
        "  return n * factorial_recursive(n-1)"
      ],
      "metadata": {
        "id": "VzHnqn51_WG6"
      },
      "execution_count": 7,
      "outputs": []
    },
    {
      "cell_type": "code",
      "source": [
        "factorial_recursive(5)"
      ],
      "metadata": {
        "colab": {
          "base_uri": "https://localhost:8080/"
        },
        "id": "-Uzf6kK1_vjJ",
        "outputId": "be286e36-ce9f-446a-9fd6-d12a00afccaf"
      },
      "execution_count": 8,
      "outputs": [
        {
          "output_type": "execute_result",
          "data": {
            "text/plain": [
              "120"
            ]
          },
          "metadata": {},
          "execution_count": 8
        }
      ]
    },
    {
      "cell_type": "markdown",
      "source": [
        "# DFS : 깊이 우선 탐색 \n",
        "- 특정한 경로로 탐색하다가 특정한 상황에서 최대한 깊숙이 들어가서 노드를 방문한 후, 다시 돌아가 다른 경로로 탐색하는 알고리즘 \n",
        "* 그래프 구조 \n",
        "- 노드, 간선, 정점\n",
        "- 스택 자료구조르르 이용"
      ],
      "metadata": {
        "id": "u8ca1z9zAG7E"
      }
    },
    {
      "cell_type": "markdown",
      "source": [
        "## 데이터를 저장하는 방식 2 : 인접 행렬 / 인접 리스트"
      ],
      "metadata": {
        "id": "bL37imQiDDZA"
      }
    },
    {
      "cell_type": "code",
      "source": [
        "# 인접 행렬 : 2차원 배열로 그래프의 연결 관계를 표현하는 방식\n",
        "# 연결 되어 있지 않는 노드끼리 : 무한의 비용\n",
        "# 논리적으로 정답이 될 수 없는 큰 값 중에서 999999999 등의 값으로 초기화\n",
        "\n",
        "INF = 999999999 # 무한의 비용 선언\n",
        "\n",
        "\n",
        "# 2차원 리스트를 이용해 인접 행렬 표현\n",
        "\n",
        "graph = [\n",
        "    [0,  7, 5],\n",
        "    [7, 0, INF],\n",
        "    [5, INF, 0]\n",
        "]\n",
        "\n",
        "print(graph)"
      ],
      "metadata": {
        "colab": {
          "base_uri": "https://localhost:8080/"
        },
        "id": "nWInz_tx_xyl",
        "outputId": "98c41114-a527-4a97-dfc3-89e9cad0e000"
      },
      "execution_count": 9,
      "outputs": [
        {
          "output_type": "stream",
          "name": "stdout",
          "text": [
            "[[0, 7, 5], [7, 0, 999999999], [5, 999999999, 0]]\n"
          ]
        }
      ]
    },
    {
      "cell_type": "code",
      "source": [
        "# 인접 리스트 : 리스트로 그래프의 연결 관계를 표현하는 방식\n",
        "# 단순히 2차원 리스트를 이용하면 된다는 점\n",
        "\n",
        "\n",
        "# 행이 3개인 2차원 리스트로 인인접 리스트 표현\n",
        "graph = [[] for _ in range(3)]\n",
        "\n",
        "graph[0].append((1,7))    #노드, 거리리\n",
        "graph[0].append((2,5))\n",
        "\n",
        "graph[1].append((0,7))\n",
        "\n",
        "graph[2].append((0,5))\n",
        "\n",
        "print(graph)"
      ],
      "metadata": {
        "colab": {
          "base_uri": "https://localhost:8080/"
        },
        "id": "ZOn7LSnHC8Vg",
        "outputId": "fcdc5e39-c073-4fa5-c96e-75099fd0e75f"
      },
      "execution_count": 15,
      "outputs": [
        {
          "output_type": "stream",
          "name": "stdout",
          "text": [
            "[[(1, 7), (2, 5)], [(0, 7)], [(0, 5)]]\n"
          ]
        }
      ]
    },
    {
      "cell_type": "code",
      "source": [
        "graph = [[] for _ in range(3)]"
      ],
      "metadata": {
        "id": "NukesuaoED2M"
      },
      "execution_count": 10,
      "outputs": []
    },
    {
      "cell_type": "code",
      "source": [
        "graph"
      ],
      "metadata": {
        "colab": {
          "base_uri": "https://localhost:8080/"
        },
        "id": "qEWf_OCPEEJ7",
        "outputId": "b78ddb66-88c5-49de-a780-4b1bb1272ea4"
      },
      "execution_count": 13,
      "outputs": [
        {
          "output_type": "execute_result",
          "data": {
            "text/plain": [
              "[[(1, 7), (2, 5)], [], []]"
            ]
          },
          "metadata": {},
          "execution_count": 13
        }
      ]
    },
    {
      "cell_type": "markdown",
      "source": [
        "## 로직:\n",
        "* 시작 노드를 true로 바꿈\n",
        "* 인접한 노드 사이즈만큼 탐색한다\n",
        "* 방문하지 않았으면 재귀적으로 방문"
      ],
      "metadata": {
        "id": "cgn-_7sSomwf"
      }
    },
    {
      "cell_type": "code",
      "source": [
        "# DFS 함수 정의\n",
        "def dfs(graph, v, visited):\n",
        "    # 현재 노드를 방문 처리\n",
        "    visited[v] = True\n",
        "    print(v, end=' ')\n",
        "    # 현재 노드와 연결된 다른 노드를 재귀적으로 방문\n",
        "    for i in graph[v]:\n",
        "        if not visited[i]:\n",
        "            dfs(graph, i, visited)\n",
        "\n",
        "# 각 노드가 연결된 정보를 리스트 자료형으로 표현(2차원 리스트)\n",
        "graph = [\n",
        "  [],\n",
        "  [2, 3, 8],\n",
        "  [1, 7],\n",
        "  [1, 4, 5],\n",
        "  [3, 5],\n",
        "  [3, 4],\n",
        "  [7],\n",
        "  [2, 6, 8],\n",
        "  [1, 7]\n",
        "]\n",
        "\n",
        "# 각 노드가 방문된 정보를 리스트 자료형으로 표현(1차원 리스트)\n",
        "visited = [False] * 9\n",
        "\n",
        "# 정의된 DFS 함수 호출\n",
        "dfs(graph, 1, visited)"
      ],
      "metadata": {
        "colab": {
          "base_uri": "https://localhost:8080/"
        },
        "id": "qUg1P8GsxwLc",
        "outputId": "72ef55c7-ece2-40f1-b242-1e78b4452738"
      },
      "execution_count": 30,
      "outputs": [
        {
          "output_type": "stream",
          "name": "stdout",
          "text": [
            "1 2 7 6 8 3 4 5 "
          ]
        }
      ]
    },
    {
      "cell_type": "markdown",
      "source": [
        "# BFS : 너비 우선 탐색\n",
        "- 가까운 노드부터 탐색하는 알고리즘\n",
        "- 최대한 멀리 있는 노드를 우선으로 탐색하는 방식인 DFS와 반대\n"
      ],
      "metadata": {
        "id": "2nkHznyNyIme"
      }
    },
    {
      "cell_type": "markdown",
      "source": [
        "## 로직\n",
        "- 시작 노드를 큐에 삽입하고 방문처리\n",
        "큐에서 노드를 꺼낸 뒤 해당 노드의 인접 노드 중 방문하지 않은 노드를 모두 큐에 삽입 후 방문처리\n",
        "- (방문하면 현재 위치는 pop해주고 방문처리 \n",
        "- -> 방문할 곳은 queue에 넣음)"
      ],
      "metadata": {
        "id": "6NAQXZf6your"
      }
    },
    {
      "cell_type": "code",
      "source": [
        "from collections import deque\n",
        "\n",
        "# BFS 함수 정의\n",
        "def bfs(graph, start, visited):\n",
        "    # 큐(Queue) 구현을 위해 deque 라이브러리 사용\n",
        "    queue = deque([start])\n",
        "    # 현재 노드를 방문 처리\n",
        "    visited[start] = True\n",
        "    # 큐가 빌 때까지 반복\n",
        "    while queue:\n",
        "        # 큐에서 하나의 원소를 뽑아 출력\n",
        "        v = queue.popleft()\n",
        "        print(v, end=' ')\n",
        "        # 해당 원소와 연결된, 아직 방문하지 않은 원소들을 큐에 삽입\n",
        "        for i in graph[v]:\n",
        "            if not visited[i]:\n",
        "                queue.append(i)\n",
        "                visited[i] = True\n",
        "\n",
        "# 각 노드가 연결된 정보를 리스트 자료형으로 표현(2차원 리스트)\n",
        "graph = [\n",
        "  [],\n",
        "  [2, 3, 8],\n",
        "  [1, 7],\n",
        "  [1, 4, 5],\n",
        "  [3, 5],\n",
        "  [3, 4],\n",
        "  [7],\n",
        "  [2, 6, 8],\n",
        "  [1, 7]\n",
        "]\n",
        "\n",
        "# 각 노드가 방문된 정보를 리스트 자료형으로 표현(1차원 리스트)\n",
        "visited = [False] * 9\n",
        "\n",
        "# 정의된 BFS 함수 호출\n",
        "bfs(graph, 1, visited)"
      ],
      "metadata": {
        "colab": {
          "base_uri": "https://localhost:8080/"
        },
        "id": "lKhVW3s0pcUA",
        "outputId": "61629ff1-3269-43be-edde-1a398462b0f5"
      },
      "execution_count": 32,
      "outputs": [
        {
          "output_type": "stream",
          "name": "stdout",
          "text": [
            "1 2 3 8 7 4 5 6 "
          ]
        }
      ]
    }
  ]
}